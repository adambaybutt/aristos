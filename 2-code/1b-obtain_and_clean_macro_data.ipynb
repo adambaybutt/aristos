{
 "cells": [
  {
   "cell_type": "code",
   "execution_count": 158,
   "id": "6359323d",
   "metadata": {},
   "outputs": [],
   "source": [
    "# IMPORT PACKAGES\n",
    "import pandas as pd\n",
    "import time\n",
    "import requests"
   ]
  },
  {
   "cell_type": "code",
   "execution_count": 1,
   "id": "f95774e9",
   "metadata": {},
   "outputs": [],
   "source": [
    "# TODO FIGURE OUT WHAT MACRO DATA TO PULL AND FROM WHERE\n",
    "# Obtain data from FRED or yahoo finance or whatever\n",
    "# do what i did from before\n",
    "# Just basic stuff"
   ]
  },
  {
   "cell_type": "code",
   "execution_count": 2,
   "id": "64f635ab",
   "metadata": {},
   "outputs": [],
   "source": [
    "# TODO PULL THE DATA"
   ]
  },
  {
   "cell_type": "code",
   "execution_count": null,
   "id": "06604172",
   "metadata": {},
   "outputs": [],
   "source": [
    "# TODO CLEAN\n",
    "# think thru time stamping to ensure i have observed the data by that time\n",
    "# confirm all variables have proper range\n",
    "# ensure no missing\n",
    "#ensure i have obs for all time periods within window; if not interpolate\n",
    "# subset to time range of interest\n",
    "# set column order, name, reset index, and save as cleaned data in derived folder"
   ]
  },
  {
   "cell_type": "code",
   "execution_count": 159,
   "id": "69edbfc0",
   "metadata": {},
   "outputs": [],
   "source": [
    "def func(arg1: str, ag2: dict) -> tuple:\n",
    "    ''' This is what the function does...\n",
    "    \n",
    "    Args:\n",
    "        ag1 (type): this is what it is\n",
    "    \n",
    "    Returns:\n",
    "        (tuple): gooble dee stuff.\n",
    "    '''\n",
    "    # step 1\n",
    "\n",
    "    # step 2\n",
    "\n",
    "    # step 3\n",
    "\n",
    "    # return"
   ]
  },
  {
   "cell_type": "code",
   "execution_count": null,
   "id": "842b58e1",
   "metadata": {},
   "outputs": [],
   "source": [
    "if __name__ == \"__main__\":\n",
    "    # step 1\n",
    "\n",
    "    # step 2\n",
    "\n",
    "    # step 3"
   ]
  },
  {
   "cell_type": "code",
   "execution_count": null,
   "id": "c14903da",
   "metadata": {},
   "outputs": [],
   "source": [
    "# TODO ONCE DONE WITH THIS; TURN INTO PYTHON SCRIPT\n",
    "# TODO MOVE ANY FUNCTIONS THAT I MAY USE ELSEWHERE TO COMMON FOLDER SHARED ACROSS PROJECTS THAT I JUST IMPORT WHEN NEEDED"
   ]
  }
 ],
 "metadata": {
  "kernelspec": {
   "display_name": "tf",
   "language": "python",
   "name": "python3"
  },
  "language_info": {
   "codemirror_mode": {
    "name": "ipython",
    "version": 3
   },
   "file_extension": ".py",
   "mimetype": "text/x-python",
   "name": "python",
   "nbconvert_exporter": "python",
   "pygments_lexer": "ipython3",
   "version": "3.9.12"
  },
  "vscode": {
   "interpreter": {
    "hash": "e428bc405edc59f3352e9792cab27c5e28560f7efb4b47308a6c6ea38cd15df2"
   }
  }
 },
 "nbformat": 4,
 "nbformat_minor": 5
}
