{
 "cells": [
  {
   "cell_type": "code",
   "execution_count": 158,
   "id": "6359323d",
   "metadata": {},
   "outputs": [],
   "source": [
    "# IMPORT PACKAGES\n",
    "import pandas as pd\n",
    "import time\n",
    "import requests"
   ]
  },
  {
   "cell_type": "code",
   "execution_count": 159,
   "id": "69edbfc0",
   "metadata": {},
   "outputs": [],
   "source": [
    "def func(arg1: str, ag2: dict) -> tuple:\n",
    "    ''' This is what the function does...\n",
    "    \n",
    "    Args:\n",
    "        ag1 (type): this is what it is\n",
    "    \n",
    "    Returns:\n",
    "        (tuple): gooble dee stuff.\n",
    "    '''\n",
    "    # step 1\n",
    "\n",
    "    # step 2\n",
    "\n",
    "    # step 3\n",
    "\n",
    "    # return"
   ]
  },
  {
   "cell_type": "code",
   "execution_count": null,
   "id": "842b58e1",
   "metadata": {},
   "outputs": [],
   "source": [
    "if __name__ == \"__main__\":\n",
    "    # step 1\n",
    "\n",
    "    # step 2\n",
    "\n",
    "    # step 3\n",
    "\n",
    "    \n",
    "    \n",
    "# played with the lasso code below to select a final set of 36 features\n",
    "    lasso_feats =  ['covar_btc_covar_trades_t_ma_tm8640',\n",
    "                    'covar_btc_covar_trades_t_min_tm30',\n",
    "                    'covar_btc_covar_trades_t_min_tm60',\n",
    "                    'covar_btc_covar_volume_t_min_tm4320',\n",
    "                    'covar_btc_p_log_t',\n",
    "                    'covar_btc_r_1min_ema_tm360',\n",
    "                    'covar_btc_r_5min_skew_tm720',\n",
    "                    'covar_btc_r_tm1440',\n",
    "                    'covar_btc_r_tm15',\n",
    "                    'covar_btc_r_tm86400',\n",
    "                    'covar_btc_rsi_tm720',\n",
    "                    'covar_eth_covar_trades_t_max_tm4320',\n",
    "                    'covar_eth_covar_trades_t_min_tm20',\n",
    "                    'covar_eth_covar_trades_t_vol_tm60',\n",
    "                    'covar_eth_covar_volume_t_ma_tm60',\n",
    "                    'covar_eth_covar_volume_t_ma_tm8640',\n",
    "                    'covar_eth_covar_volume_t_max_tm4320',\n",
    "                    'covar_eth_covar_volume_t_max_tm720',\n",
    "                    'covar_eth_covar_volume_t_sum_tm20',\n",
    "                    'covar_eth_covar_volume_t_sum_tm60',\n",
    "                    'covar_eth_covar_volume_t_vol_tm360',\n",
    "                    'covar_eth_p_t',\n",
    "                    'covar_eth_r_1min_ema_tm60',\n",
    "                    'covar_eth_r_1min_ma_tm360',\n",
    "                    'covar_eth_r_1min_vol_tm20',\n",
    "                    'covar_eth_r_1min_vol_tm5',\n",
    "                    'covar_eth_r_5min_ma_tm20160',\n",
    "                    'covar_eth_r_5min_ma_tm60',\n",
    "                    'covar_eth_r_5min_min_tm30',\n",
    "                    'covar_eth_r_5min_min_tm720',\n",
    "                    'covar_eth_r_cummax_t',\n",
    "                    'covar_eth_r_cummin_t',\n",
    "                    'covar_eth_r_tm120',\n",
    "                    'covar_eth_r_tm1440',\n",
    "                    'covar_eth_r_tm40320',\n",
    "                    'covar_eth_volume_t']"
   ]
  },
  {
   "cell_type": "code",
   "execution_count": null,
   "id": "3480d069",
   "metadata": {},
   "outputs": [],
   "source": [
    "# for year in [2016, 2017, 2018, 2019, 2020, 2021]:\n",
    "#     lasso_df = df[df.date.dt.year == year].copy()\n",
    "\n",
    "#     # set lasso parameters\n",
    "#     rhs_feats = list(included_feats)\n",
    "#     lhs_col   = 'y_btc_eth_diff_r_tp5_tp370'\n",
    "#     alpha     = 0.001\n",
    "\n",
    "#     # scale RHS\n",
    "#     y = lasso_df[lhs_col].values\n",
    "#     X = lasso_df[rhs_feats].values\n",
    "#     X_scaled = StandardScaler().fit_transform(X)\n",
    "\n",
    "#     # fit\n",
    "#     model = Lasso(alpha=alpha, fit_intercept=False)\n",
    "#     model.fit(X_scaled, y)\n",
    "\n",
    "#     # show selected feats\n",
    "#     lasso_feats = [rhs_feats[i] for i in np.nonzero(model.coef_)[0]]\n",
    "#     print(year)\n",
    "#     print(lasso_feats)"
   ]
  },
  {
   "cell_type": "code",
   "execution_count": null,
   "id": "c14903da",
   "metadata": {},
   "outputs": [],
   "source": [
    "# TODO ONCE DONE WITH THIS; TURN INTO PYTHON SCRIPT\n",
    "# TODO MOVE ANY FUNCTIONS THAT I MAY USE ELSEWHERE TO COMMON FOLDER SHARED ACROSS PROJECTS THAT I JUST IMPORT WHEN NEEDED"
   ]
  }
 ],
 "metadata": {
  "kernelspec": {
   "display_name": "tf",
   "language": "python",
   "name": "python3"
  },
  "language_info": {
   "codemirror_mode": {
    "name": "ipython",
    "version": 3
   },
   "file_extension": ".py",
   "mimetype": "text/x-python",
   "name": "python",
   "nbconvert_exporter": "python",
   "pygments_lexer": "ipython3",
   "version": "3.9.12 (main, Jun  1 2022, 11:38:51) \n[GCC 7.5.0]"
  },
  "vscode": {
   "interpreter": {
    "hash": "e428bc405edc59f3352e9792cab27c5e28560f7efb4b47308a6c6ea38cd15df2"
   }
  }
 },
 "nbformat": 4,
 "nbformat_minor": 5
}
