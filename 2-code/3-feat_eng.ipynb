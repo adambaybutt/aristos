{
 "cells": [
  {
   "cell_type": "code",
   "execution_count": 158,
   "id": "6359323d",
   "metadata": {},
   "outputs": [],
   "source": [
    "# IMPORT PACKAGES\n",
    "import pandas as pd\n",
    "import time\n",
    "import requests"
   ]
  },
  {
   "cell_type": "code",
   "execution_count": 2,
   "id": "52b02d60",
   "metadata": {},
   "outputs": [],
   "source": [
    "# TODO CREATE CELLS FOR VARIOUS FEAT ENG FROM \n",
    "# iv eda and feat eng is main script to just copy on what features to form\n",
    "# ideas:\n",
    "# create btc and eth returns from cycle high and cycle low\n",
    "# "
   ]
  },
  {
   "cell_type": "code",
   "execution_count": null,
   "id": "b66ad10c",
   "metadata": {},
   "outputs": [],
   "source": [
    "# TODO normalize all columns but handle look ahead bias"
   ]
  },
  {
   "cell_type": "code",
   "execution_count": 3,
   "id": "37797667",
   "metadata": {},
   "outputs": [],
   "source": [
    "# TODO do the corr, *spearman rank*, MI, consistency, indep by year and overall as before\n",
    "# choose covars and be generous here"
   ]
  },
  {
   "cell_type": "code",
   "execution_count": null,
   "id": "598e5edf",
   "metadata": {},
   "outputs": [],
   "source": [
    "# TODO scatterplot of each RHS with LHS to just get a feel of stuff"
   ]
  },
  {
   "cell_type": "code",
   "execution_count": null,
   "id": "6c6fbca9",
   "metadata": {},
   "outputs": [],
   "source": [
    "# TODO \n",
    "# not sure what i mean by this but\n",
    "# confirm signal with low dim linear regression\n",
    "# maybe lasso like the final set to choose some so i work with lower dim problem?\n",
    "# then start with just linear reg to ensure it works on this low dim set"
   ]
  },
  {
   "cell_type": "code",
   "execution_count": null,
   "id": "fdd42062",
   "metadata": {},
   "outputs": [],
   "source": [
    "# TODO final clean\n",
    "# save the final panel in clean data folder as the full panel, ensure no missing, all vars have proper range, set col order, set col name, reset index, save as pickle"
   ]
  },
  {
   "cell_type": "code",
   "execution_count": 159,
   "id": "69edbfc0",
   "metadata": {},
   "outputs": [],
   "source": [
    "def func(arg1: str, ag2: dict) -> tuple:\n",
    "    ''' This is what the function does...\n",
    "    \n",
    "    Args:\n",
    "        ag1 (type): this is what it is\n",
    "    \n",
    "    Returns:\n",
    "        (tuple): gooble dee stuff.\n",
    "    '''\n",
    "    # step 1\n",
    "\n",
    "    # step 2\n",
    "\n",
    "    # step 3\n",
    "\n",
    "    # return"
   ]
  },
  {
   "cell_type": "code",
   "execution_count": null,
   "id": "842b58e1",
   "metadata": {},
   "outputs": [],
   "source": [
    "if __name__ == \"__main__\":\n",
    "    # step 1\n",
    "\n",
    "    # step 2\n",
    "\n",
    "    # step 3"
   ]
  },
  {
   "cell_type": "code",
   "execution_count": null,
   "id": "c14903da",
   "metadata": {},
   "outputs": [],
   "source": [
    "# TODO ONCE DONE WITH THIS; TURN INTO PYTHON SCRIPT\n",
    "# TODO MOVE ANY FUNCTIONS THAT I MAY USE ELSEWHERE TO COMMON FOLDER SHARED ACROSS PROJECTS THAT I JUST IMPORT WHEN NEEDED"
   ]
  }
 ],
 "metadata": {
  "kernelspec": {
   "display_name": "tf",
   "language": "python",
   "name": "python3"
  },
  "language_info": {
   "codemirror_mode": {
    "name": "ipython",
    "version": 3
   },
   "file_extension": ".py",
   "mimetype": "text/x-python",
   "name": "python",
   "nbconvert_exporter": "python",
   "pygments_lexer": "ipython3",
   "version": "3.9.12 (main, Jun  1 2022, 11:38:51) \n[GCC 7.5.0]"
  },
  "vscode": {
   "interpreter": {
    "hash": "e428bc405edc59f3352e9792cab27c5e28560f7efb4b47308a6c6ea38cd15df2"
   }
  }
 },
 "nbformat": 4,
 "nbformat_minor": 5
}
