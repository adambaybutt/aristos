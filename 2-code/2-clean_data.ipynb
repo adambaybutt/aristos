{
 "cells": [
  {
   "cell_type": "code",
   "execution_count": 158,
   "id": "6359323d",
   "metadata": {},
   "outputs": [],
   "source": [
    "# IMPORT PACKAGES\n",
    "import pandas as pd\n",
    "import time\n",
    "import requests"
   ]
  },
  {
   "cell_type": "code",
   "execution_count": null,
   "id": "1744471c",
   "metadata": {},
   "outputs": [],
   "source": [
    "# TODO BASIC INITIAL CHECKS ON THE DATA\n",
    "# start by cleaning the data when it is in panel format\n",
    "\n",
    "# make sure all variables are proper format; compress data size\n",
    "# confirm all variables have proper range\n",
    "# ensure price time series looks correct; delete this code once done\n",
    "# ensure no missing\n",
    "# make sure time stamp is good; think thru time stamping to ensure i have observed the data by that time\n",
    "# form asset ID\n",
    "# subset to time range of interest\n",
    "\n",
    "# ensure i have obs for all time periods within window; if not interpolate\n",
    "# ensure unique on id vars\n"
   ]
  },
  {
   "cell_type": "code",
   "execution_count": null,
   "id": "d7b589dd",
   "metadata": {},
   "outputs": [],
   "source": [
    "# TODO FORM FAIR VALUE, BID, ASK\n",
    "# write code from visually looking at other code\n",
    "# write code from price impact reg to convert trade data to fair value, bid, ask, buy volume, sell volume, number buys, number sells AT 1 MIN BARS (where time stamp is end of window, df.date.dt.ceil('1min'))\n",
    "# confirm bid ask spread looks legit; look at it over time; look at it in comparison to current order book"
   ]
  },
  {
   "cell_type": "code",
   "execution_count": null,
   "id": "37345581",
   "metadata": {},
   "outputs": [],
   "source": [
    "# TODO COLLAPSE TO ONE OB PER TIME\n",
    "\n",
    "# merge together to form one ob per time period; rename cols first\n"
   ]
  },
  {
   "cell_type": "code",
   "execution_count": null,
   "id": "36371f0b",
   "metadata": {},
   "outputs": [],
   "source": [
    "# TODO: FORM LHS\n",
    "# Long short BTC/ETH so single outcome; 1 or 0. do freq somewhere 10 min to 6 hour to see what works above fees. make reminder for later to explore others."
   ]
  },
  {
   "cell_type": "code",
   "execution_count": null,
   "id": "62b0ce23",
   "metadata": {},
   "outputs": [],
   "source": [
    "# TODO MERGE ON MACRO\n",
    "# after i collapse to single row per time period, merge on the macro data"
   ]
  },
  {
   "cell_type": "code",
   "execution_count": null,
   "id": "c445a9db",
   "metadata": {},
   "outputs": [],
   "source": [
    "# TODO FINAL CLEAN\n",
    "\n",
    "# ensure no missing\n",
    "# confirm all variables have proper range\n",
    "# set column order, name, reset index, and save as cleaned data in derived folder"
   ]
  },
  {
   "cell_type": "code",
   "execution_count": 159,
   "id": "69edbfc0",
   "metadata": {},
   "outputs": [],
   "source": [
    "def func(arg1: str, ag2: dict) -> tuple:\n",
    "    ''' This is what the function does...\n",
    "    \n",
    "    Args:\n",
    "        ag1 (type): this is what it is\n",
    "    \n",
    "    Returns:\n",
    "        (tuple): gooble dee stuff.\n",
    "    '''\n",
    "    # step 1\n",
    "\n",
    "    # step 2\n",
    "\n",
    "    # step 3\n",
    "\n",
    "    # return"
   ]
  },
  {
   "cell_type": "code",
   "execution_count": null,
   "id": "842b58e1",
   "metadata": {},
   "outputs": [],
   "source": [
    "if __name__ == \"__main__\":\n",
    "    # step 1\n",
    "\n",
    "    # step 2\n",
    "\n",
    "    # step 3"
   ]
  },
  {
   "cell_type": "code",
   "execution_count": null,
   "id": "c14903da",
   "metadata": {},
   "outputs": [],
   "source": [
    "# TODO ONCE DONE WITH THIS; TURN INTO PYTHON SCRIPT\n",
    "# TODO MOVE ANY FUNCTIONS THAT I MAY USE ELSEWHERE TO COMMON FOLDER SHARED ACROSS PROJECTS THAT I JUST IMPORT WHEN NEEDED"
   ]
  }
 ],
 "metadata": {
  "kernelspec": {
   "display_name": "tf",
   "language": "python",
   "name": "python3"
  },
  "language_info": {
   "codemirror_mode": {
    "name": "ipython",
    "version": 3
   },
   "file_extension": ".py",
   "mimetype": "text/x-python",
   "name": "python",
   "nbconvert_exporter": "python",
   "pygments_lexer": "ipython3",
   "version": "3.9.12 (main, Jun  1 2022, 11:38:51) \n[GCC 7.5.0]"
  },
  "vscode": {
   "interpreter": {
    "hash": "e428bc405edc59f3352e9792cab27c5e28560f7efb4b47308a6c6ea38cd15df2"
   }
  }
 },
 "nbformat": 4,
 "nbformat_minor": 5
}
